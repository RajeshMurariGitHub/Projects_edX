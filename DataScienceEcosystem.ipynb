{
 "cells": [
  {
   "cell_type": "markdown",
   "id": "0446d7ad-0f26-4581-9eb8-155f76631eef",
   "metadata": {},
   "source": [
    "# Data Science Tools and Ecosystem"
   ]
  },
  {
   "cell_type": "markdown",
   "id": "3b8aeeb5-4b85-4175-baab-aaaa7f67f06b",
   "metadata": {},
   "source": [
    "#### In this notebook, Data Science Tools and Ecosystem are summarized."
   ]
  },
  {
   "cell_type": "markdown",
   "id": "ebdb9784-844c-470b-ad3a-fcc2a1a0644d",
   "metadata": {},
   "source": [
    "##### **Some of the popular languages that Data Scientists use are:**\n",
    "\n",
    "1. Python\n",
    "2. R\n",
    "3. Julia\n",
    "4. Scala\n"
   ]
  },
  {
   "cell_type": "markdown",
   "id": "ed40ae6e-873c-44e5-a5d8-1c51b487fc0a",
   "metadata": {},
   "source": [
    "##### **Some of the commonly used libraries used by Data Scientists include:**\n",
    "\n",
    "1. Numpy\n",
    "2. Pandas\n",
    "3. matplotlib\n",
    "4. ggplot\n",
    "5. plotly\n",
    "\n"
   ]
  },
  {
   "cell_type": "markdown",
   "id": "f42d123c-2b64-4ef9-97b9-0b541a97e321",
   "metadata": {},
   "source": [
    "##### **Data Science Tools:**\n",
    "\n",
    "|S.No | Name of the Tool\n",
    "|------|-----------------\n",
    "|1 | Jupyter Notebook|\n",
    "|2 | Pytorch|\n",
    "|3 |TensorFlow|\n",
    "|4 | PowerBI|\n",
    "\n",
    "\n"
   ]
  },
  {
   "cell_type": "markdown",
   "id": "d3c0502b-ee29-4bae-925f-cfe7001c5e4d",
   "metadata": {},
   "source": [
    "### Below are a few examples of evaluating arithmetic expressions in Python."
   ]
  },
  {
   "cell_type": "code",
   "execution_count": 1,
   "id": "8d0f94b3-f17f-427e-9b21-91b5ad60ccd0",
   "metadata": {
    "tags": []
   },
   "outputs": [
    {
     "data": {
      "text/plain": [
       "17"
      ]
     },
     "execution_count": 1,
     "metadata": {},
     "output_type": "execute_result"
    }
   ],
   "source": [
    "# This a simple arithmetic expression to mutiply then add integers\n",
    "(3*4)+5"
   ]
  },
  {
   "cell_type": "code",
   "execution_count": 3,
   "id": "94443b10-64b2-4950-b987-bcabdcad883a",
   "metadata": {
    "tags": []
   },
   "outputs": [
    {
     "data": {
      "text/plain": [
       "3.3333333333333335"
      ]
     },
     "execution_count": 3,
     "metadata": {},
     "output_type": "execute_result"
    }
   ],
   "source": [
    "# This will convert 200 minutes to hours by diving by 60\n",
    "min_to_hrs = 200/60\n",
    "min_to_hrs"
   ]
  },
  {
   "cell_type": "markdown",
   "id": "d6a2ad7c-b3ee-48fa-87ae-3641f21a54fd",
   "metadata": {},
   "source": [
    "**Objectives:**\n",
    "* Python\n",
    "* R\n",
    "* Julia\n",
    "* Java\n",
    "* Scala\n",
    "* C++\n",
    "* JavaScript"
   ]
  },
  {
   "cell_type": "markdown",
   "id": "b19ad5d2-70a9-4105-b8d7-3c5f56b304e9",
   "metadata": {},
   "source": [
    "## Author : Rajesh M."
   ]
  }
 ],
 "metadata": {
  "kernelspec": {
   "display_name": "Python",
   "language": "python",
   "name": "conda-env-python-py"
  },
  "language_info": {
   "codemirror_mode": {
    "name": "ipython",
    "version": 3
   },
   "file_extension": ".py",
   "mimetype": "text/x-python",
   "name": "python",
   "nbconvert_exporter": "python",
   "pygments_lexer": "ipython3",
   "version": "3.7.12"
  }
 },
 "nbformat": 4,
 "nbformat_minor": 5
}
